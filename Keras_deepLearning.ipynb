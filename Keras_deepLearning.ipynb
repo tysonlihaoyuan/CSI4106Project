{
 "cells": [
  {
   "cell_type": "code",
   "execution_count": 1,
   "metadata": {},
   "outputs": [
    {
     "name": "stdout",
     "output_type": "stream",
     "text": [
      "\n"
     ]
    }
   ],
   "source": [
    "import pandas as pd\n",
    "import numpy as np\n",
    "seed = 7\n",
    "np.random.seed(seed)\n",
    "dataframe = pd.read_csv(\"interstate.csv\")\n",
    "featureSet =['side','initiation','combat_location','combat_fatalities']\n",
    "print()\n",
    "\n",
    "# split into input (X) and output (Y) variables\n",
    "X = dataframe[featureSet].astype(float)\n",
    "Y = dataframe['outcome']"
   ]
  },
  {
   "cell_type": "code",
   "execution_count": 2,
   "metadata": {},
   "outputs": [
    {
     "name": "stderr",
     "output_type": "stream",
     "text": [
      "Using TensorFlow backend.\n"
     ]
    }
   ],
   "source": [
    "import sklearn\n",
    "import matplotlib.pyplot as plt\n",
    "from sklearn import preprocessing\n",
    "from sklearn.preprocessing import OneHotEncoder\n",
    "from sklearn.model_selection import train_test_split\n",
    "from keras.utils import np_utils\n",
    "\n",
    "\n",
    "X_train, X_test, y_train, y_test = train_test_split(X, Y, test_size = 0.33,random_state =7)\n",
    "\n",
    "ohe = OneHotEncoder(sparse=False, handle_unknown='ignore')\n",
    "\n",
    "\n",
    "\n",
    "ohe.fit(X_train)\n",
    "X_train_encoded = ohe.transform(X_train)\n",
    "X_test_encoded = ohe.transform(X_test)\n",
    "\n",
    "\n",
    "encoder = preprocessing.LabelEncoder()\n",
    "encoder.fit(y_test)\n",
    "encoded_y_test = encoder.transform(y_test)\n",
    "dummy_y_test = np_utils.to_categorical(encoded_y_test,6)\n",
    "\n",
    "encoder = preprocessing.LabelEncoder()\n",
    "encoder.fit(y_train)\n",
    "encoded_y_train = encoder.transform(y_train)\n",
    "dummy_y_train = np_utils.to_categorical(encoded_y_train,6)\n"
   ]
  },
  {
   "cell_type": "code",
   "execution_count": 3,
   "metadata": {},
   "outputs": [
    {
     "name": "stdout",
     "output_type": "stream",
     "text": [
      "WARNING:tensorflow:From C:\\Users\\lihao\\Anaconda3\\lib\\site-packages\\keras\\backend\\tensorflow_backend.py:74: The name tf.get_default_graph is deprecated. Please use tf.compat.v1.get_default_graph instead.\n",
      "\n",
      "WARNING:tensorflow:From C:\\Users\\lihao\\Anaconda3\\lib\\site-packages\\keras\\backend\\tensorflow_backend.py:517: The name tf.placeholder is deprecated. Please use tf.compat.v1.placeholder instead.\n",
      "\n",
      "WARNING:tensorflow:From C:\\Users\\lihao\\Anaconda3\\lib\\site-packages\\keras\\backend\\tensorflow_backend.py:4138: The name tf.random_uniform is deprecated. Please use tf.random.uniform instead.\n",
      "\n",
      "WARNING:tensorflow:From C:\\Users\\lihao\\Anaconda3\\lib\\site-packages\\keras\\optimizers.py:790: The name tf.train.Optimizer is deprecated. Please use tf.compat.v1.train.Optimizer instead.\n",
      "\n",
      "WARNING:tensorflow:From C:\\Users\\lihao\\Anaconda3\\lib\\site-packages\\keras\\backend\\tensorflow_backend.py:3295: The name tf.log is deprecated. Please use tf.math.log instead.\n",
      "\n",
      "WARNING:tensorflow:From C:\\Users\\lihao\\Anaconda3\\lib\\site-packages\\tensorflow\\python\\ops\\math_grad.py:1250: add_dispatch_support.<locals>.wrapper (from tensorflow.python.ops.array_ops) is deprecated and will be removed in a future version.\n",
      "Instructions for updating:\n",
      "Use tf.where in 2.0, which has the same broadcast rule as np.where\n",
      "WARNING:tensorflow:From C:\\Users\\lihao\\Anaconda3\\lib\\site-packages\\keras\\backend\\tensorflow_backend.py:986: The name tf.assign_add is deprecated. Please use tf.compat.v1.assign_add instead.\n",
      "\n",
      "Train on 225 samples, validate on 112 samples\n",
      "Epoch 1/40\n",
      "225/225 [==============================] - 2s 10ms/step - loss: 1.8040 - acc: 0.1289 - val_loss: 1.7621 - val_acc: 0.3750\n",
      "Epoch 2/40\n",
      "225/225 [==============================] - 0s 782us/step - loss: 1.7444 - acc: 0.3689 - val_loss: 1.7120 - val_acc: 0.6429\n",
      "Epoch 3/40\n",
      "225/225 [==============================] - 0s 831us/step - loss: 1.6868 - acc: 0.6222 - val_loss: 1.6533 - val_acc: 0.7768\n",
      "Epoch 4/40\n",
      "225/225 [==============================] - 0s 769us/step - loss: 1.6182 - acc: 0.7689 - val_loss: 1.5787 - val_acc: 0.8125\n",
      "Epoch 5/40\n",
      "225/225 [==============================] - 0s 698us/step - loss: 1.5321 - acc: 0.7911 - val_loss: 1.4927 - val_acc: 0.8125\n",
      "Epoch 6/40\n",
      "225/225 [==============================] - 0s 769us/step - loss: 1.4371 - acc: 0.8000 - val_loss: 1.3960 - val_acc: 0.8125\n",
      "Epoch 7/40\n",
      "225/225 [==============================] - 0s 871us/step - loss: 1.3351 - acc: 0.8044 - val_loss: 1.3033 - val_acc: 0.8125\n",
      "Epoch 8/40\n",
      "225/225 [==============================] - 0s 804us/step - loss: 1.2362 - acc: 0.8044 - val_loss: 1.2103 - val_acc: 0.8125\n",
      "Epoch 9/40\n",
      "225/225 [==============================] - 0s 782us/step - loss: 1.1406 - acc: 0.8044 - val_loss: 1.1248 - val_acc: 0.8125\n",
      "Epoch 10/40\n",
      "225/225 [==============================] - 0s 760us/step - loss: 1.0534 - acc: 0.8044 - val_loss: 1.0464 - val_acc: 0.8125\n",
      "Epoch 11/40\n",
      "225/225 [==============================] - 0s 760us/step - loss: 0.9749 - acc: 0.8044 - val_loss: 0.9775 - val_acc: 0.8125\n",
      "Epoch 12/40\n",
      "225/225 [==============================] - 0s 818us/step - loss: 0.9087 - acc: 0.8044 - val_loss: 0.9133 - val_acc: 0.8125\n",
      "Epoch 13/40\n",
      "225/225 [==============================] - 0s 791us/step - loss: 0.8483 - acc: 0.8044 - val_loss: 0.8616 - val_acc: 0.8125\n",
      "Epoch 14/40\n",
      "225/225 [==============================] - 0s 818us/step - loss: 0.7964 - acc: 0.8044 - val_loss: 0.8182 - val_acc: 0.8125\n",
      "Epoch 15/40\n",
      "225/225 [==============================] - 0s 773us/step - loss: 0.7510 - acc: 0.8044 - val_loss: 0.7816 - val_acc: 0.8125\n",
      "Epoch 16/40\n",
      "225/225 [==============================] - 0s 693us/step - loss: 0.7131 - acc: 0.8044 - val_loss: 0.7512 - val_acc: 0.8125\n",
      "Epoch 17/40\n",
      "225/225 [==============================] - 0s 800us/step - loss: 0.6818 - acc: 0.8044 - val_loss: 0.7295 - val_acc: 0.8125\n",
      "Epoch 18/40\n",
      "225/225 [==============================] - 0s 840us/step - loss: 0.6562 - acc: 0.8044 - val_loss: 0.7112 - val_acc: 0.8125\n",
      "Epoch 19/40\n",
      "225/225 [==============================] - 0s 733us/step - loss: 0.6340 - acc: 0.8044 - val_loss: 0.6964 - val_acc: 0.8125\n",
      "Epoch 20/40\n",
      "225/225 [==============================] - 0s 796us/step - loss: 0.6144 - acc: 0.8044 - val_loss: 0.6842 - val_acc: 0.8125\n",
      "Epoch 21/40\n",
      "225/225 [==============================] - 0s 769us/step - loss: 0.5957 - acc: 0.8044 - val_loss: 0.6759 - val_acc: 0.8125\n",
      "Epoch 22/40\n",
      "225/225 [==============================] - 0s 733us/step - loss: 0.5796 - acc: 0.8044 - val_loss: 0.6691 - val_acc: 0.8125\n",
      "Epoch 23/40\n",
      "225/225 [==============================] - 0s 729us/step - loss: 0.5641 - acc: 0.8089 - val_loss: 0.6625 - val_acc: 0.8125\n",
      "Epoch 24/40\n",
      "225/225 [==============================] - 0s 742us/step - loss: 0.5509 - acc: 0.8089 - val_loss: 0.6569 - val_acc: 0.8125\n",
      "Epoch 25/40\n",
      "225/225 [==============================] - 0s 751us/step - loss: 0.5374 - acc: 0.8089 - val_loss: 0.6503 - val_acc: 0.8125\n",
      "Epoch 26/40\n",
      "225/225 [==============================] - 0s 773us/step - loss: 0.5247 - acc: 0.8133 - val_loss: 0.6492 - val_acc: 0.8125\n",
      "Epoch 27/40\n",
      "225/225 [==============================] - 0s 711us/step - loss: 0.5129 - acc: 0.8400 - val_loss: 0.6448 - val_acc: 0.8125\n",
      "Epoch 28/40\n",
      "225/225 [==============================] - 0s 707us/step - loss: 0.5021 - acc: 0.8400 - val_loss: 0.6406 - val_acc: 0.8125\n",
      "Epoch 29/40\n",
      "225/225 [==============================] - 0s 760us/step - loss: 0.4908 - acc: 0.8400 - val_loss: 0.6373 - val_acc: 0.8125\n",
      "Epoch 30/40\n",
      "225/225 [==============================] - 0s 773us/step - loss: 0.4807 - acc: 0.8400 - val_loss: 0.6373 - val_acc: 0.8125\n",
      "Epoch 31/40\n",
      "225/225 [==============================] - 0s 751us/step - loss: 0.4718 - acc: 0.8400 - val_loss: 0.6338 - val_acc: 0.8125\n",
      "Epoch 32/40\n",
      "225/225 [==============================] - 0s 796us/step - loss: 0.4618 - acc: 0.8400 - val_loss: 0.6299 - val_acc: 0.8125\n",
      "Epoch 33/40\n",
      "225/225 [==============================] - 0s 751us/step - loss: 0.4534 - acc: 0.8400 - val_loss: 0.6319 - val_acc: 0.8036\n",
      "Epoch 34/40\n",
      "225/225 [==============================] - 0s 787us/step - loss: 0.4440 - acc: 0.8444 - val_loss: 0.6265 - val_acc: 0.8125\n",
      "Epoch 35/40\n",
      "225/225 [==============================] - 0s 778us/step - loss: 0.4357 - acc: 0.8444 - val_loss: 0.6278 - val_acc: 0.8036\n",
      "Epoch 36/40\n",
      "225/225 [==============================] - 0s 782us/step - loss: 0.4267 - acc: 0.8444 - val_loss: 0.6256 - val_acc: 0.8036\n",
      "Epoch 37/40\n",
      "225/225 [==============================] - 0s 822us/step - loss: 0.4201 - acc: 0.8489 - val_loss: 0.6281 - val_acc: 0.8304\n",
      "Epoch 38/40\n",
      "225/225 [==============================] - 0s 778us/step - loss: 0.4119 - acc: 0.8489 - val_loss: 0.6225 - val_acc: 0.8036\n",
      "Epoch 39/40\n",
      "225/225 [==============================] - 0s 720us/step - loss: 0.4035 - acc: 0.8533 - val_loss: 0.6241 - val_acc: 0.8304\n",
      "Epoch 40/40\n",
      "225/225 [==============================] - 0s 778us/step - loss: 0.3960 - acc: 0.8578 - val_loss: 0.6255 - val_acc: 0.8304\n"
     ]
    }
   ],
   "source": [
    "from keras.models import Sequential\n",
    "\n",
    "from keras.layers import Dense,Activation\n",
    "\n",
    "from keras.wrappers.scikit_learn import KerasClassifier\n",
    "from keras import optimizers\n",
    "from sklearn.model_selection import train_test_split, KFold, cross_val_score\n",
    "import datetime\n",
    "from sklearn.model_selection import StratifiedKFold\n",
    "\n",
    "\n",
    "def create_model(): \n",
    "    model = Sequential() \n",
    "    model.add(Dense(10, input_dim=150, activation=\"relu\")) \n",
    "\n",
    "    model.add(Dense(6, activation=\"softmax\")) \n",
    "    \n",
    "    model.compile(loss=\"categorical_crossentropy\", optimizer=\"adam\", metrics=[\"acc\"]) \n",
    "    return model\n",
    "\n",
    "model = KerasClassifier(build_fn=create_model, epochs=40, batch_size=10)\n",
    "history=model.fit(X_train_encoded,dummy_y_train,validation_data=(X_test_encoded,dummy_y_test))"
   ]
  },
  {
   "cell_type": "code",
   "execution_count": 4,
   "metadata": {},
   "outputs": [
    {
     "data": {
      "image/png": "[encoded data removed]",
      "text/plain": [
       "<Figure size 432x288 with 1 Axes>"
      ]
     },
     "metadata": {
      "needs_background": "light"
     },
     "output_type": "display_data"
    }
   ],
   "source": [
    "plt.plot(history.history['acc'])\n",
    "plt.plot(history.history['val_acc'])\n",
    "plt.title('Model accuracy')\n",
    "plt.ylabel('Accuracy')\n",
    "plt.xlabel('Epoch')\n",
    "plt.legend(['Train', 'Test'], loc='upper left')\n",
    "plt.show()"
   ]
  },
  {
   "cell_type": "code",
   "execution_count": 5,
   "metadata": {},
   "outputs": [
    {
     "data": {
      "image/png": "[encoded data removed]",
      "text/plain": [
       "<Figure size 432x288 with 1 Axes>"
      ]
     },
     "metadata": {
      "needs_background": "light"
     },
     "output_type": "display_data"
    }
   ],
   "source": [
    "plt.plot(history.history['loss'])\n",
    "plt.plot(history.history['val_loss'])\n",
    "plt.title('Model loss')\n",
    "plt.ylabel('Loss')\n",
    "plt.xlabel('Epoch')\n",
    "plt.legend(['Train', 'Test'], loc='upper left')\n",
    "plt.show()"
   ]
  },
  {
   "cell_type": "code",
   "execution_count": null,
   "metadata": {},
   "outputs": [],
   "source": []
  }
 ],
 "metadata": {
  "kernelspec": {
   "display_name": "Python 3",
   "language": "python",
   "name": "python3"
  },
  "language_info": {
   "codemirror_mode": {
    "name": "ipython",
    "version": 3
   },
   "file_extension": ".py",
   "mimetype": "text/x-python",
   "name": "python",
   "nbconvert_exporter": "python",
   "pygments_lexer": "ipython3",
   "version": "3.7.3"
  }
 },
 "nbformat": 4,
 "nbformat_minor": 2
}
