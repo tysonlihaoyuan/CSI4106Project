{
 "cells": [
  {
   "cell_type": "code",
   "execution_count": 1,
   "metadata": {},
   "outputs": [],
   "source": [
    "import pandas as pd\n",
    "import numpy as np\n",
    "\n",
    "#set up the random seed\n",
    "seed = 7\n",
    "np.random.seed(seed)\n",
    "\n",
    "#using pandas to read the data form csv and get the feature varibales from table\n",
    "dataframe = pd.read_csv(\"interstate.csv\")\n",
    "featureSet =['side','initiation','combat_location','combat_fatalities']\n",
    "\n",
    "\n",
    "# split into input (X) and output (Y) variables\n",
    "X = dataframe[featureSet].astype(float)\n",
    "Y = dataframe['outcome']"
   ]
  },
  {
   "cell_type": "code",
   "execution_count": 2,
   "metadata": {},
   "outputs": [
    {
     "name": "stderr",
     "output_type": "stream",
     "text": [
      "Using TensorFlow backend.\n"
     ]
    }
   ],
   "source": [
    "import sklearn\n",
    "import matplotlib.pyplot as plt\n",
    "from sklearn import preprocessing\n",
    "from sklearn.preprocessing import OneHotEncoder\n",
    "from sklearn.model_selection import train_test_split\n",
    "from keras.utils import np_utils\n",
    "\n",
    "# split the train,and test set with the anaylze data and target\n",
    "X_train, X_test, y_train, y_test = train_test_split(X, Y, test_size = 0.33,random_state =7)\n",
    "\n",
    "# initial one hot encoded\n",
    "ohe = OneHotEncoder(sparse=False, handle_unknown='ignore')\n",
    "# fitting the X_train in the hot encode\n",
    "ohe.fit(X_train)\n",
    "#transform the analyzed variable in to the combiantion fearture set \n",
    "X_train_encoded = ohe.transform(X_train)\n",
    "X_test_encoded = ohe.transform(X_test)\n",
    "#geting the size of feature \n",
    "data_length = len(ohe.get_feature_names())\n",
    "# using labelencode to encode the output data in to 0,1 matrix \n",
    "encoder = preprocessing.LabelEncoder()\n",
    "encoder.fit(y_test)\n",
    "#tranform the data and enforce the data match the diminson \n",
    "encoded_y_test = encoder.transform(y_test)\n",
    "dummy_y_test = np_utils.to_categorical(encoded_y_test,data_length)\n",
    "\n",
    "encoder = preprocessing.LabelEncoder()\n",
    "encoder.fit(y_train)\n",
    "encoded_y_train = encoder.transform(y_train)\n",
    "dummy_y_train = np_utils.to_categorical(encoded_y_train,data_length)\n"
   ]
  },
  {
   "cell_type": "code",
   "execution_count": 3,
   "metadata": {},
   "outputs": [
    {
     "name": "stdout",
     "output_type": "stream",
     "text": [
      "WARNING:tensorflow:From C:\\Users\\lihao\\Anaconda3\\lib\\site-packages\\keras\\backend\\tensorflow_backend.py:74: The name tf.get_default_graph is deprecated. Please use tf.compat.v1.get_default_graph instead.\n",
      "\n",
      "WARNING:tensorflow:From C:\\Users\\lihao\\Anaconda3\\lib\\site-packages\\keras\\backend\\tensorflow_backend.py:517: The name tf.placeholder is deprecated. Please use tf.compat.v1.placeholder instead.\n",
      "\n",
      "WARNING:tensorflow:From C:\\Users\\lihao\\Anaconda3\\lib\\site-packages\\keras\\backend\\tensorflow_backend.py:4138: The name tf.random_uniform is deprecated. Please use tf.random.uniform instead.\n",
      "\n",
      "WARNING:tensorflow:From C:\\Users\\lihao\\Anaconda3\\lib\\site-packages\\keras\\optimizers.py:790: The name tf.train.Optimizer is deprecated. Please use tf.compat.v1.train.Optimizer instead.\n",
      "\n",
      "WARNING:tensorflow:From C:\\Users\\lihao\\Anaconda3\\lib\\site-packages\\keras\\backend\\tensorflow_backend.py:3295: The name tf.log is deprecated. Please use tf.math.log instead.\n",
      "\n",
      "WARNING:tensorflow:From C:\\Users\\lihao\\Anaconda3\\lib\\site-packages\\tensorflow\\python\\ops\\math_grad.py:1250: add_dispatch_support.<locals>.wrapper (from tensorflow.python.ops.array_ops) is deprecated and will be removed in a future version.\n",
      "Instructions for updating:\n",
      "Use tf.where in 2.0, which has the same broadcast rule as np.where\n",
      "WARNING:tensorflow:From C:\\Users\\lihao\\Anaconda3\\lib\\site-packages\\keras\\backend\\tensorflow_backend.py:986: The name tf.assign_add is deprecated. Please use tf.compat.v1.assign_add instead.\n",
      "\n",
      "Train on 225 samples, validate on 112 samples\n",
      "Epoch 1/10\n",
      "225/225 [==============================] - 2s 9ms/step - loss: 4.9646 - acc: 0.1022 - val_loss: 4.9384 - val_acc: 0.3125\n",
      "Epoch 2/10\n",
      "225/225 [==============================] - 0s 507us/step - loss: 4.8988 - acc: 0.3156 - val_loss: 4.8689 - val_acc: 0.4286\n",
      "Epoch 3/10\n",
      "225/225 [==============================] - 0s 484us/step - loss: 4.8130 - acc: 0.4311 - val_loss: 4.7732 - val_acc: 0.4821\n",
      "Epoch 4/10\n",
      "225/225 [==============================] - 0s 493us/step - loss: 4.6928 - acc: 0.4711 - val_loss: 4.6353 - val_acc: 0.5000\n",
      "Epoch 5/10\n",
      "225/225 [==============================] - 0s 480us/step - loss: 4.5224 - acc: 0.4756 - val_loss: 4.4388 - val_acc: 0.5357\n",
      "Epoch 6/10\n",
      "225/225 [==============================] - 0s 493us/step - loss: 4.2896 - acc: 0.4800 - val_loss: 4.1718 - val_acc: 0.5268\n",
      "Epoch 7/10\n",
      "225/225 [==============================] - 0s 498us/step - loss: 3.9783 - acc: 0.4800 - val_loss: 3.8342 - val_acc: 0.5179\n",
      "Epoch 8/10\n",
      "225/225 [==============================] - 0s 533us/step - loss: 3.5986 - acc: 0.4711 - val_loss: 3.4339 - val_acc: 0.5179\n",
      "Epoch 9/10\n",
      "225/225 [==============================] - 0s 498us/step - loss: 3.1645 - acc: 0.4533 - val_loss: 2.9967 - val_acc: 0.4911\n",
      "Epoch 10/10\n",
      "225/225 [==============================] - 0s 507us/step - loss: 2.7095 - acc: 0.4444 - val_loss: 2.5593 - val_acc: 0.4911\n"
     ]
    }
   ],
   "source": [
    "from keras.models import Sequential\n",
    "from keras.layers import Dense,Activation\n",
    "from keras.wrappers.scikit_learn import KerasClassifier\n",
    "from keras import optimizers\n",
    "from sklearn.model_selection import train_test_split\n",
    "import datetime\n",
    "\n",
    "# creat a sequential model with 150 variable input and 10 hidden layer.\n",
    "\n",
    "def create_model(): \n",
    "    model = Sequential() \n",
    "    model.add(Dense(10, input_dim=data_length, activation=\"relu\")) \n",
    "# output  \n",
    "    model.add(Dense(data_length, activation=\"softmax\")) \n",
    "# multiple class using the categorical_crossentropy as loss funtiona\n",
    "# adam for optimizer, since adam has a good performance for mutiple class classifation\n",
    "    model.compile(loss=\"categorical_crossentropy\", optimizer=\"adam\", metrics=[\"acc\"]) \n",
    "    return model\n",
    "#init the kerasclassfier with training 10 epochs \n",
    "model = KerasClassifier(build_fn=create_model, epochs=10, batch_size=15)\n",
    "\n",
    "#taining the data and verify it by the test set created above\n",
    "history=model.fit(X_train_encoded,dummy_y_train,validation_data=(X_test_encoded,dummy_y_test))"
   ]
  },
  {
   "cell_type": "code",
   "execution_count": 4,
   "metadata": {},
   "outputs": [
    {
     "data": {
      "image/png": "[encoded data removed]",
      "text/plain": [
       "<Figure size 432x288 with 1 Axes>"
      ]
     },
     "metadata": {
      "needs_background": "light"
     },
     "output_type": "display_data"
    }
   ],
   "source": [
    "#polt the accuracy\n",
    "plt.plot(history.history['acc'])\n",
    "plt.plot(history.history['val_acc'])\n",
    "plt.title('Model accuracy')\n",
    "plt.ylabel('Accuracy')\n",
    "plt.xlabel('Epoch')\n",
    "plt.legend(['Train', 'Test'], loc='upper left')\n",
    "plt.show()"
   ]
  },
  {
   "cell_type": "code",
   "execution_count": 5,
   "metadata": {},
   "outputs": [
    {
     "data": {
      "image/png": "[encoded data removed]",
      "text/plain": [
       "<Figure size 432x288 with 1 Axes>"
      ]
     },
     "metadata": {
      "needs_background": "light"
     },
     "output_type": "display_data"
    }
   ],
   "source": [
    "#plot the loss function\n",
    "plt.plot(history.history['loss'])\n",
    "plt.plot(history.history['val_loss'])\n",
    "plt.title('Model loss')\n",
    "plt.ylabel('Loss')\n",
    "plt.xlabel('Epoch')\n",
    "plt.legend(['Train', 'Test'], loc='upper left')\n",
    "plt.show()"
   ]
  },
  {
   "cell_type": "code",
   "execution_count": 8,
   "metadata": {},
   "outputs": [],
   "source": [
    "from sklearn.model_selection import cross_val_score\n",
    "from sklearn.model_selection import KFold\n",
    "\n",
    "#encodeing X \n",
    "ohe_fold = OneHotEncoder(sparse=False, handle_unknown='ignore')\n",
    "ohe_fold.fit(X)\n",
    "X_fold_encoded = ohe_fold.transform(X)\n",
    "\n",
    "\n",
    "data_fold_length = len(ohe_fold.get_feature_names())\n",
    "#encoding Y\n",
    "encoder = preprocessing.LabelEncoder()\n",
    "encoder.fit(Y)\n",
    "#tranform the data and enforce the data set as data_length to macth the input\n",
    "encoded_Y = encoder.transform(Y)\n",
    "\n",
    "dummy_Y = np_utils.to_categorical(encoded_Y,data_fold_length)\n",
    "\n",
    "\n",
    "def create_model_fold(): \n",
    "    model = Sequential() \n",
    "    model.add(Dense(10, input_dim=data_fold_length, activation=\"relu\")) \n",
    "\n",
    "    model.add(Dense(8,activation=\"relu\"))\n",
    "    model.add(Dense(data_fold_length, activation=\"softmax\")) \n",
    "# multiple class using the categorical_crossentropy as loss funtiona\n",
    "# adam for optimizer, since adam has a good performance for mutiple class classifation\n",
    "    model.compile(loss=\"categorical_crossentropy\", optimizer=\"adam\", metrics=[\"acc\"]) \n",
    "    return model\n",
    "\n",
    "\n"
   ]
  },
  {
   "cell_type": "code",
   "execution_count": 9,
   "metadata": {},
   "outputs": [
    {
     "name": "stdout",
     "output_type": "stream",
     "text": [
      "Baseline: 69.72% (14.52%)\n"
     ]
    }
   ],
   "source": [
    "#init the kerasclassfier with training 10 epochs \n",
    "model = KerasClassifier(build_fn=create_model_fold, epochs=10, batch_size=15)\n",
    "\n",
    "#estimate the model with the kold and oouput the result\n",
    "\n",
    "\n",
    "estimator = KerasClassifier(build_fn=create_model_fold, epochs=10, batch_size=5, verbose=0)\n",
    "#10 time fold and cross with the shuffle data  \n",
    "kfold = KFold(n_splits=10, shuffle=True, random_state=seed)\n",
    "#receive the score\n",
    "results = cross_val_score(estimator, X_fold_encoded, dummy_Y, cv=kfold)\n",
    "print(\"Baseline: %.2f%% (%.2f%%)\" % (results.mean()*100, results.std()*100))"
   ]
  },
  {
   "cell_type": "code",
   "execution_count": 10,
   "metadata": {},
   "outputs": [
    {
     "name": "stdout",
     "output_type": "stream",
     "text": [
      "Train on 225 samples, validate on 112 samples\n",
      "Epoch 1/40\n",
      "225/225 [==============================] - 1s 5ms/step - loss: 0.0075 - acc: 0.0222 - mean_squared_error: 0.0075 - val_loss: 0.0068 - val_acc: 0.0625 - val_mean_squared_error: 0.0068\n",
      "Epoch 2/40\n",
      "225/225 [==============================] - 0s 764us/step - loss: 0.0066 - acc: 0.1422 - mean_squared_error: 0.0066 - val_loss: 0.0064 - val_acc: 0.2232 - val_mean_squared_error: 0.0064\n",
      "Epoch 3/40\n",
      "225/225 [==============================] - 0s 827us/step - loss: 0.0062 - acc: 0.3644 - mean_squared_error: 0.0062 - val_loss: 0.0061 - val_acc: 0.3304 - val_mean_squared_error: 0.0061\n",
      "Epoch 4/40\n",
      "225/225 [==============================] - 0s 733us/step - loss: 0.0059 - acc: 0.4133 - mean_squared_error: 0.0059 - val_loss: 0.0058 - val_acc: 0.3571 - val_mean_squared_error: 0.0058\n",
      "Epoch 5/40\n",
      "225/225 [==============================] - 0s 725us/step - loss: 0.0056 - acc: 0.4800 - mean_squared_error: 0.0056 - val_loss: 0.0054 - val_acc: 0.5446 - val_mean_squared_error: 0.0054\n",
      "Epoch 6/40\n",
      "225/225 [==============================] - 0s 760us/step - loss: 0.0052 - acc: 0.5244 - mean_squared_error: 0.0052 - val_loss: 0.0051 - val_acc: 0.5804 - val_mean_squared_error: 0.0051\n",
      "Epoch 7/40\n",
      "225/225 [==============================] - 0s 738us/step - loss: 0.0048 - acc: 0.5111 - mean_squared_error: 0.0048 - val_loss: 0.0046 - val_acc: 0.5536 - val_mean_squared_error: 0.0046\n",
      "Epoch 8/40\n",
      "225/225 [==============================] - 0s 662us/step - loss: 0.0043 - acc: 0.4978 - mean_squared_error: 0.0043 - val_loss: 0.0042 - val_acc: 0.5804 - val_mean_squared_error: 0.0042\n",
      "Epoch 9/40\n",
      "225/225 [==============================] - 0s 684us/step - loss: 0.0040 - acc: 0.5067 - mean_squared_error: 0.0040 - val_loss: 0.0039 - val_acc: 0.5804 - val_mean_squared_error: 0.0039\n",
      "Epoch 10/40\n",
      "225/225 [==============================] - 0s 707us/step - loss: 0.0037 - acc: 0.5467 - mean_squared_error: 0.0037 - val_loss: 0.0037 - val_acc: 0.5982 - val_mean_squared_error: 0.0037\n",
      "Epoch 11/40\n",
      "225/225 [==============================] - 0s 729us/step - loss: 0.0035 - acc: 0.6489 - mean_squared_error: 0.0035 - val_loss: 0.0034 - val_acc: 0.7411 - val_mean_squared_error: 0.0034\n",
      "Epoch 12/40\n",
      "225/225 [==============================] - 0s 756us/step - loss: 0.0032 - acc: 0.7467 - mean_squared_error: 0.0032 - val_loss: 0.0031 - val_acc: 0.8036 - val_mean_squared_error: 0.0031\n",
      "Epoch 13/40\n",
      "225/225 [==============================] - 0s 738us/step - loss: 0.0029 - acc: 0.8044 - mean_squared_error: 0.0029 - val_loss: 0.0029 - val_acc: 0.8036 - val_mean_squared_error: 0.0029\n",
      "Epoch 14/40\n",
      "225/225 [==============================] - 0s 778us/step - loss: 0.0025 - acc: 0.8044 - mean_squared_error: 0.0025 - val_loss: 0.0026 - val_acc: 0.8125 - val_mean_squared_error: 0.0026\n",
      "Epoch 15/40\n",
      "225/225 [==============================] - 0s 711us/step - loss: 0.0023 - acc: 0.8044 - mean_squared_error: 0.0023 - val_loss: 0.0024 - val_acc: 0.8125 - val_mean_squared_error: 0.0024\n",
      "Epoch 16/40\n",
      "225/225 [==============================] - 0s 738us/step - loss: 0.0021 - acc: 0.8044 - mean_squared_error: 0.0021 - val_loss: 0.0023 - val_acc: 0.8125 - val_mean_squared_error: 0.0023\n",
      "Epoch 17/40\n",
      "225/225 [==============================] - 0s 693us/step - loss: 0.0019 - acc: 0.8044 - mean_squared_error: 0.0019 - val_loss: 0.0022 - val_acc: 0.8125 - val_mean_squared_error: 0.0022\n",
      "Epoch 18/40\n",
      "225/225 [==============================] - 0s 760us/step - loss: 0.0019 - acc: 0.8044 - mean_squared_error: 0.0019 - val_loss: 0.0022 - val_acc: 0.8125 - val_mean_squared_error: 0.0022\n",
      "Epoch 19/40\n",
      "225/225 [==============================] - 0s 769us/step - loss: 0.0018 - acc: 0.8044 - mean_squared_error: 0.0018 - val_loss: 0.0021 - val_acc: 0.8125 - val_mean_squared_error: 0.0021\n",
      "Epoch 20/40\n",
      "225/225 [==============================] - 0s 769us/step - loss: 0.0018 - acc: 0.8044 - mean_squared_error: 0.0018 - val_loss: 0.0021 - val_acc: 0.8125 - val_mean_squared_error: 0.0021\n",
      "Epoch 21/40\n",
      "225/225 [==============================] - 0s 742us/step - loss: 0.0017 - acc: 0.8044 - mean_squared_error: 0.0017 - val_loss: 0.0021 - val_acc: 0.8125 - val_mean_squared_error: 0.0021\n",
      "Epoch 22/40\n",
      "225/225 [==============================] - 0s 747us/step - loss: 0.0017 - acc: 0.8044 - mean_squared_error: 0.0017 - val_loss: 0.0021 - val_acc: 0.8125 - val_mean_squared_error: 0.0021\n",
      "Epoch 23/40\n",
      "225/225 [==============================] - 0s 742us/step - loss: 0.0017 - acc: 0.8089 - mean_squared_error: 0.0017 - val_loss: 0.0021 - val_acc: 0.8125 - val_mean_squared_error: 0.0021\n",
      "Epoch 24/40\n",
      "225/225 [==============================] - 0s 729us/step - loss: 0.0016 - acc: 0.8133 - mean_squared_error: 0.0016 - val_loss: 0.0021 - val_acc: 0.8125 - val_mean_squared_error: 0.0021\n",
      "Epoch 25/40\n",
      "225/225 [==============================] - 0s 764us/step - loss: 0.0016 - acc: 0.8178 - mean_squared_error: 0.0016 - val_loss: 0.0021 - val_acc: 0.8125 - val_mean_squared_error: 0.0021\n",
      "Epoch 26/40\n",
      "225/225 [==============================] - 0s 716us/step - loss: 0.0016 - acc: 0.8178 - mean_squared_error: 0.0016 - val_loss: 0.0021 - val_acc: 0.8125 - val_mean_squared_error: 0.0021\n",
      "Epoch 27/40\n",
      "225/225 [==============================] - 0s 720us/step - loss: 0.0015 - acc: 0.8178 - mean_squared_error: 0.0015 - val_loss: 0.0021 - val_acc: 0.8125 - val_mean_squared_error: 0.0021\n",
      "Epoch 28/40\n",
      "225/225 [==============================] - 0s 742us/step - loss: 0.0015 - acc: 0.8222 - mean_squared_error: 0.0015 - val_loss: 0.0021 - val_acc: 0.8125 - val_mean_squared_error: 0.0021\n",
      "Epoch 29/40\n",
      "225/225 [==============================] - 0s 716us/step - loss: 0.0015 - acc: 0.8356 - mean_squared_error: 0.0015 - val_loss: 0.0021 - val_acc: 0.8125 - val_mean_squared_error: 0.0021\n",
      "Epoch 30/40\n",
      "225/225 [==============================] - 0s 733us/step - loss: 0.0014 - acc: 0.8400 - mean_squared_error: 0.0014 - val_loss: 0.0021 - val_acc: 0.8214 - val_mean_squared_error: 0.0021\n",
      "Epoch 31/40\n",
      "225/225 [==============================] - 0s 760us/step - loss: 0.0014 - acc: 0.8400 - mean_squared_error: 0.0014 - val_loss: 0.0021 - val_acc: 0.8214 - val_mean_squared_error: 0.0021\n",
      "Epoch 32/40\n",
      "225/225 [==============================] - 0s 738us/step - loss: 0.0014 - acc: 0.8400 - mean_squared_error: 0.0014 - val_loss: 0.0021 - val_acc: 0.8214 - val_mean_squared_error: 0.0021\n",
      "Epoch 33/40\n",
      "225/225 [==============================] - 0s 716us/step - loss: 0.0014 - acc: 0.8444 - mean_squared_error: 0.0014 - val_loss: 0.0021 - val_acc: 0.8214 - val_mean_squared_error: 0.0021\n",
      "Epoch 34/40\n",
      "225/225 [==============================] - 0s 733us/step - loss: 0.0013 - acc: 0.8489 - mean_squared_error: 0.0013 - val_loss: 0.0021 - val_acc: 0.8214 - val_mean_squared_error: 0.0021\n",
      "Epoch 35/40\n",
      "225/225 [==============================] - 0s 787us/step - loss: 0.0013 - acc: 0.8489 - mean_squared_error: 0.0013 - val_loss: 0.0021 - val_acc: 0.8214 - val_mean_squared_error: 0.0021\n",
      "Epoch 36/40\n",
      "225/225 [==============================] - 0s 707us/step - loss: 0.0013 - acc: 0.8533 - mean_squared_error: 0.0013 - val_loss: 0.0021 - val_acc: 0.8214 - val_mean_squared_error: 0.0021\n",
      "Epoch 37/40\n",
      "225/225 [==============================] - 0s 787us/step - loss: 0.0013 - acc: 0.8533 - mean_squared_error: 0.0013 - val_loss: 0.0021 - val_acc: 0.8214 - val_mean_squared_error: 0.0021\n",
      "Epoch 38/40\n",
      "225/225 [==============================] - 0s 747us/step - loss: 0.0012 - acc: 0.8578 - mean_squared_error: 0.0012 - val_loss: 0.0021 - val_acc: 0.8214 - val_mean_squared_error: 0.0021\n",
      "Epoch 39/40\n",
      "225/225 [==============================] - 0s 720us/step - loss: 0.0012 - acc: 0.8756 - mean_squared_error: 0.0012 - val_loss: 0.0021 - val_acc: 0.8214 - val_mean_squared_error: 0.0021\n",
      "Epoch 40/40\n",
      "225/225 [==============================] - 0s 733us/step - loss: 0.0012 - acc: 0.8756 - mean_squared_error: 0.0012 - val_loss: 0.0021 - val_acc: 0.8214 - val_mean_squared_error: 0.0021\n"
     ]
    }
   ],
   "source": [
    "from keras.wrappers.scikit_learn import KerasRegressor\n",
    "def create_model_re(): \n",
    "    model = Sequential() \n",
    "    model.add(Dense(10, input_dim=data_length, activation=\"relu\")) \n",
    "\n",
    "    model.add(Dense(data_length)) \n",
    "    #regression is based on mean_square_error\n",
    "    model.compile(loss=\"mse\", optimizer=\"adam\", metrics=[\"acc\",\"mse\"]) \n",
    "    return model\n",
    "#using KerasRegressor as regression fucnction\n",
    "model = KerasRegressor(build_fn=create_model_re, epochs=40, batch_size=10)\n",
    "history=model.fit(X_train_encoded,dummy_y_train,validation_data=(X_test_encoded,dummy_y_test))\n"
   ]
  },
  {
   "cell_type": "code",
   "execution_count": 11,
   "metadata": {},
   "outputs": [
    {
     "data": {
      "image/png": "[encoded data removed]",
      "text/plain": [
       "<Figure size 432x288 with 1 Axes>"
      ]
     },
     "metadata": {
      "needs_background": "light"
     },
     "output_type": "display_data"
    }
   ],
   "source": [
    "#plot the MSE\n",
    "plt.plot(history.history['mean_squared_error'])\n",
    "plt.plot(history.history['val_mean_squared_error'])\n",
    "plt.title('Model mean_squared_error')\n",
    "plt.ylabel('mse')\n",
    "plt.xlabel('Epoch')\n",
    "plt.legend(['Train', 'Test'], loc='upper left')\n",
    "plt.show()"
   ]
  },
  {
   "cell_type": "code",
   "execution_count": null,
   "metadata": {},
   "outputs": [],
   "source": []
  }
 ],
 "metadata": {
  "kernelspec": {
   "display_name": "Python 3",
   "language": "python",
   "name": "python3"
  },
  "language_info": {
   "codemirror_mode": {
    "name": "ipython",
    "version": 3
   },
   "file_extension": ".py",
   "mimetype": "text/x-python",
   "name": "python",
   "nbconvert_exporter": "python",
   "pygments_lexer": "ipython3",
   "version": "3.7.3"
  }
 },
 "nbformat": 4,
 "nbformat_minor": 2
}
